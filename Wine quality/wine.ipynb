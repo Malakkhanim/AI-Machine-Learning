{
 "cells": [
  {
   "cell_type": "code",
   "execution_count": 22,
   "id": "9fa8b086",
   "metadata": {},
   "outputs": [],
   "source": [
    "import pandas as pd\n",
    "import seaborn as sns\n",
    "from sklearn.preprocessing import StandardScaler\n",
    "from sklearn.linear_model import LogisticRegression\n",
    "from sklearn.metrics import confusion_matrix\n",
    "from sklearn.metrics import accuracy_score"
   ]
  },
  {
   "cell_type": "code",
   "execution_count": 23,
   "id": "af5abcee",
   "metadata": {},
   "outputs": [],
   "source": [
    "df=pd.read_csv('Wine.csv')"
   ]
  },
  {
   "cell_type": "code",
   "execution_count": 24,
   "id": "7fd680bb",
   "metadata": {},
   "outputs": [
    {
     "data": {
      "text/html": [
       "<div>\n",
       "<style scoped>\n",
       "    .dataframe tbody tr th:only-of-type {\n",
       "        vertical-align: middle;\n",
       "    }\n",
       "\n",
       "    .dataframe tbody tr th {\n",
       "        vertical-align: top;\n",
       "    }\n",
       "\n",
       "    .dataframe thead th {\n",
       "        text-align: right;\n",
       "    }\n",
       "</style>\n",
       "<table border=\"1\" class=\"dataframe\">\n",
       "  <thead>\n",
       "    <tr style=\"text-align: right;\">\n",
       "      <th></th>\n",
       "      <th>fixed acid</th>\n",
       "      <th>volatile acid</th>\n",
       "      <th>citric acid</th>\n",
       "      <th>residual sugar</th>\n",
       "      <th>chlorid</th>\n",
       "      <th>free sulfur dioxide</th>\n",
       "      <th>sum of sulfur dioxide</th>\n",
       "      <th>density</th>\n",
       "      <th>pH</th>\n",
       "      <th>sulphates</th>\n",
       "      <th>alcohol</th>\n",
       "      <th>quality</th>\n",
       "      <th>Id</th>\n",
       "    </tr>\n",
       "  </thead>\n",
       "  <tbody>\n",
       "    <tr>\n",
       "      <th>0</th>\n",
       "      <td>7.4</td>\n",
       "      <td>0.700</td>\n",
       "      <td>0.00</td>\n",
       "      <td>1.9</td>\n",
       "      <td>0.076</td>\n",
       "      <td>11.0</td>\n",
       "      <td>34.0</td>\n",
       "      <td>0.99780</td>\n",
       "      <td>3.51</td>\n",
       "      <td>0.56</td>\n",
       "      <td>9.4</td>\n",
       "      <td>5</td>\n",
       "      <td>0</td>\n",
       "    </tr>\n",
       "    <tr>\n",
       "      <th>1</th>\n",
       "      <td>7.8</td>\n",
       "      <td>0.880</td>\n",
       "      <td>0.00</td>\n",
       "      <td>2.6</td>\n",
       "      <td>0.098</td>\n",
       "      <td>25.0</td>\n",
       "      <td>67.0</td>\n",
       "      <td>0.99680</td>\n",
       "      <td>3.20</td>\n",
       "      <td>0.68</td>\n",
       "      <td>9.8</td>\n",
       "      <td>5</td>\n",
       "      <td>1</td>\n",
       "    </tr>\n",
       "    <tr>\n",
       "      <th>2</th>\n",
       "      <td>7.8</td>\n",
       "      <td>0.760</td>\n",
       "      <td>0.04</td>\n",
       "      <td>2.3</td>\n",
       "      <td>0.092</td>\n",
       "      <td>15.0</td>\n",
       "      <td>54.0</td>\n",
       "      <td>0.99700</td>\n",
       "      <td>3.26</td>\n",
       "      <td>0.65</td>\n",
       "      <td>9.8</td>\n",
       "      <td>5</td>\n",
       "      <td>2</td>\n",
       "    </tr>\n",
       "    <tr>\n",
       "      <th>3</th>\n",
       "      <td>11.2</td>\n",
       "      <td>0.280</td>\n",
       "      <td>0.56</td>\n",
       "      <td>1.9</td>\n",
       "      <td>0.075</td>\n",
       "      <td>17.0</td>\n",
       "      <td>60.0</td>\n",
       "      <td>0.99800</td>\n",
       "      <td>3.16</td>\n",
       "      <td>0.58</td>\n",
       "      <td>9.8</td>\n",
       "      <td>6</td>\n",
       "      <td>3</td>\n",
       "    </tr>\n",
       "    <tr>\n",
       "      <th>4</th>\n",
       "      <td>7.4</td>\n",
       "      <td>0.700</td>\n",
       "      <td>0.00</td>\n",
       "      <td>1.9</td>\n",
       "      <td>0.076</td>\n",
       "      <td>11.0</td>\n",
       "      <td>34.0</td>\n",
       "      <td>0.99780</td>\n",
       "      <td>3.51</td>\n",
       "      <td>0.56</td>\n",
       "      <td>9.4</td>\n",
       "      <td>5</td>\n",
       "      <td>4</td>\n",
       "    </tr>\n",
       "    <tr>\n",
       "      <th>...</th>\n",
       "      <td>...</td>\n",
       "      <td>...</td>\n",
       "      <td>...</td>\n",
       "      <td>...</td>\n",
       "      <td>...</td>\n",
       "      <td>...</td>\n",
       "      <td>...</td>\n",
       "      <td>...</td>\n",
       "      <td>...</td>\n",
       "      <td>...</td>\n",
       "      <td>...</td>\n",
       "      <td>...</td>\n",
       "      <td>...</td>\n",
       "    </tr>\n",
       "    <tr>\n",
       "      <th>1138</th>\n",
       "      <td>6.3</td>\n",
       "      <td>0.510</td>\n",
       "      <td>0.13</td>\n",
       "      <td>2.3</td>\n",
       "      <td>0.076</td>\n",
       "      <td>29.0</td>\n",
       "      <td>40.0</td>\n",
       "      <td>0.99574</td>\n",
       "      <td>3.42</td>\n",
       "      <td>0.75</td>\n",
       "      <td>11.0</td>\n",
       "      <td>6</td>\n",
       "      <td>1592</td>\n",
       "    </tr>\n",
       "    <tr>\n",
       "      <th>1139</th>\n",
       "      <td>6.8</td>\n",
       "      <td>0.620</td>\n",
       "      <td>0.08</td>\n",
       "      <td>1.9</td>\n",
       "      <td>0.068</td>\n",
       "      <td>28.0</td>\n",
       "      <td>38.0</td>\n",
       "      <td>0.99651</td>\n",
       "      <td>3.42</td>\n",
       "      <td>0.82</td>\n",
       "      <td>9.5</td>\n",
       "      <td>6</td>\n",
       "      <td>1593</td>\n",
       "    </tr>\n",
       "    <tr>\n",
       "      <th>1140</th>\n",
       "      <td>6.2</td>\n",
       "      <td>0.600</td>\n",
       "      <td>0.08</td>\n",
       "      <td>2.0</td>\n",
       "      <td>0.090</td>\n",
       "      <td>32.0</td>\n",
       "      <td>44.0</td>\n",
       "      <td>0.99490</td>\n",
       "      <td>3.45</td>\n",
       "      <td>0.58</td>\n",
       "      <td>10.5</td>\n",
       "      <td>5</td>\n",
       "      <td>1594</td>\n",
       "    </tr>\n",
       "    <tr>\n",
       "      <th>1141</th>\n",
       "      <td>5.9</td>\n",
       "      <td>0.550</td>\n",
       "      <td>0.10</td>\n",
       "      <td>2.2</td>\n",
       "      <td>0.062</td>\n",
       "      <td>39.0</td>\n",
       "      <td>51.0</td>\n",
       "      <td>0.99512</td>\n",
       "      <td>3.52</td>\n",
       "      <td>0.76</td>\n",
       "      <td>11.2</td>\n",
       "      <td>6</td>\n",
       "      <td>1595</td>\n",
       "    </tr>\n",
       "    <tr>\n",
       "      <th>1142</th>\n",
       "      <td>5.9</td>\n",
       "      <td>0.645</td>\n",
       "      <td>0.12</td>\n",
       "      <td>2.0</td>\n",
       "      <td>0.075</td>\n",
       "      <td>32.0</td>\n",
       "      <td>44.0</td>\n",
       "      <td>0.99547</td>\n",
       "      <td>3.57</td>\n",
       "      <td>0.71</td>\n",
       "      <td>10.2</td>\n",
       "      <td>5</td>\n",
       "      <td>1597</td>\n",
       "    </tr>\n",
       "  </tbody>\n",
       "</table>\n",
       "<p>1143 rows × 13 columns</p>\n",
       "</div>"
      ],
      "text/plain": [
       "      fixed acid  volatile acid  citric acid  residual sugar  chlorid  \\\n",
       "0            7.4          0.700         0.00             1.9    0.076   \n",
       "1            7.8          0.880         0.00             2.6    0.098   \n",
       "2            7.8          0.760         0.04             2.3    0.092   \n",
       "3           11.2          0.280         0.56             1.9    0.075   \n",
       "4            7.4          0.700         0.00             1.9    0.076   \n",
       "...          ...            ...          ...             ...      ...   \n",
       "1138         6.3          0.510         0.13             2.3    0.076   \n",
       "1139         6.8          0.620         0.08             1.9    0.068   \n",
       "1140         6.2          0.600         0.08             2.0    0.090   \n",
       "1141         5.9          0.550         0.10             2.2    0.062   \n",
       "1142         5.9          0.645         0.12             2.0    0.075   \n",
       "\n",
       "      free sulfur dioxide  sum of sulfur dioxide  density    pH  sulphates  \\\n",
       "0                    11.0                   34.0  0.99780  3.51       0.56   \n",
       "1                    25.0                   67.0  0.99680  3.20       0.68   \n",
       "2                    15.0                   54.0  0.99700  3.26       0.65   \n",
       "3                    17.0                   60.0  0.99800  3.16       0.58   \n",
       "4                    11.0                   34.0  0.99780  3.51       0.56   \n",
       "...                   ...                    ...      ...   ...        ...   \n",
       "1138                 29.0                   40.0  0.99574  3.42       0.75   \n",
       "1139                 28.0                   38.0  0.99651  3.42       0.82   \n",
       "1140                 32.0                   44.0  0.99490  3.45       0.58   \n",
       "1141                 39.0                   51.0  0.99512  3.52       0.76   \n",
       "1142                 32.0                   44.0  0.99547  3.57       0.71   \n",
       "\n",
       "      alcohol  quality    Id  \n",
       "0         9.4        5     0  \n",
       "1         9.8        5     1  \n",
       "2         9.8        5     2  \n",
       "3         9.8        6     3  \n",
       "4         9.4        5     4  \n",
       "...       ...      ...   ...  \n",
       "1138     11.0        6  1592  \n",
       "1139      9.5        6  1593  \n",
       "1140     10.5        5  1594  \n",
       "1141     11.2        6  1595  \n",
       "1142     10.2        5  1597  \n",
       "\n",
       "[1143 rows x 13 columns]"
      ]
     },
     "execution_count": 24,
     "metadata": {},
     "output_type": "execute_result"
    }
   ],
   "source": [
    "df"
   ]
  },
  {
   "cell_type": "markdown",
   "id": "562d581d",
   "metadata": {},
   "source": [
    "we can drop id column because it is unuseful"
   ]
  },
  {
   "cell_type": "code",
   "execution_count": 25,
   "id": "89f73f75",
   "metadata": {},
   "outputs": [],
   "source": [
    "df.drop(columns='Id',inplace=True)"
   ]
  },
  {
   "cell_type": "code",
   "execution_count": 26,
   "id": "60961e4f",
   "metadata": {},
   "outputs": [
    {
     "data": {
      "text/html": [
       "<div>\n",
       "<style scoped>\n",
       "    .dataframe tbody tr th:only-of-type {\n",
       "        vertical-align: middle;\n",
       "    }\n",
       "\n",
       "    .dataframe tbody tr th {\n",
       "        vertical-align: top;\n",
       "    }\n",
       "\n",
       "    .dataframe thead th {\n",
       "        text-align: right;\n",
       "    }\n",
       "</style>\n",
       "<table border=\"1\" class=\"dataframe\">\n",
       "  <thead>\n",
       "    <tr style=\"text-align: right;\">\n",
       "      <th></th>\n",
       "      <th>count</th>\n",
       "      <th>mean</th>\n",
       "      <th>std</th>\n",
       "      <th>min</th>\n",
       "      <th>25%</th>\n",
       "      <th>50%</th>\n",
       "      <th>75%</th>\n",
       "      <th>max</th>\n",
       "    </tr>\n",
       "  </thead>\n",
       "  <tbody>\n",
       "    <tr>\n",
       "      <th>fixed acid</th>\n",
       "      <td>1143.0</td>\n",
       "      <td>8.311111</td>\n",
       "      <td>1.747595</td>\n",
       "      <td>4.60000</td>\n",
       "      <td>7.10000</td>\n",
       "      <td>7.90000</td>\n",
       "      <td>9.100000</td>\n",
       "      <td>15.90000</td>\n",
       "    </tr>\n",
       "    <tr>\n",
       "      <th>volatile acid</th>\n",
       "      <td>1143.0</td>\n",
       "      <td>0.531339</td>\n",
       "      <td>0.179633</td>\n",
       "      <td>0.12000</td>\n",
       "      <td>0.39250</td>\n",
       "      <td>0.52000</td>\n",
       "      <td>0.640000</td>\n",
       "      <td>1.58000</td>\n",
       "    </tr>\n",
       "    <tr>\n",
       "      <th>citric acid</th>\n",
       "      <td>1143.0</td>\n",
       "      <td>0.268364</td>\n",
       "      <td>0.196686</td>\n",
       "      <td>0.00000</td>\n",
       "      <td>0.09000</td>\n",
       "      <td>0.25000</td>\n",
       "      <td>0.420000</td>\n",
       "      <td>1.00000</td>\n",
       "    </tr>\n",
       "    <tr>\n",
       "      <th>residual sugar</th>\n",
       "      <td>1143.0</td>\n",
       "      <td>2.532152</td>\n",
       "      <td>1.355917</td>\n",
       "      <td>0.90000</td>\n",
       "      <td>1.90000</td>\n",
       "      <td>2.20000</td>\n",
       "      <td>2.600000</td>\n",
       "      <td>15.50000</td>\n",
       "    </tr>\n",
       "    <tr>\n",
       "      <th>chlorid</th>\n",
       "      <td>1143.0</td>\n",
       "      <td>0.086933</td>\n",
       "      <td>0.047267</td>\n",
       "      <td>0.01200</td>\n",
       "      <td>0.07000</td>\n",
       "      <td>0.07900</td>\n",
       "      <td>0.090000</td>\n",
       "      <td>0.61100</td>\n",
       "    </tr>\n",
       "    <tr>\n",
       "      <th>free sulfur dioxide</th>\n",
       "      <td>1143.0</td>\n",
       "      <td>15.615486</td>\n",
       "      <td>10.250486</td>\n",
       "      <td>1.00000</td>\n",
       "      <td>7.00000</td>\n",
       "      <td>13.00000</td>\n",
       "      <td>21.000000</td>\n",
       "      <td>68.00000</td>\n",
       "    </tr>\n",
       "    <tr>\n",
       "      <th>sum of sulfur dioxide</th>\n",
       "      <td>1143.0</td>\n",
       "      <td>45.914698</td>\n",
       "      <td>32.782130</td>\n",
       "      <td>6.00000</td>\n",
       "      <td>21.00000</td>\n",
       "      <td>37.00000</td>\n",
       "      <td>61.000000</td>\n",
       "      <td>289.00000</td>\n",
       "    </tr>\n",
       "    <tr>\n",
       "      <th>density</th>\n",
       "      <td>1143.0</td>\n",
       "      <td>0.996730</td>\n",
       "      <td>0.001925</td>\n",
       "      <td>0.99007</td>\n",
       "      <td>0.99557</td>\n",
       "      <td>0.99668</td>\n",
       "      <td>0.997845</td>\n",
       "      <td>1.00369</td>\n",
       "    </tr>\n",
       "    <tr>\n",
       "      <th>pH</th>\n",
       "      <td>1143.0</td>\n",
       "      <td>3.311015</td>\n",
       "      <td>0.156664</td>\n",
       "      <td>2.74000</td>\n",
       "      <td>3.20500</td>\n",
       "      <td>3.31000</td>\n",
       "      <td>3.400000</td>\n",
       "      <td>4.01000</td>\n",
       "    </tr>\n",
       "    <tr>\n",
       "      <th>sulphates</th>\n",
       "      <td>1143.0</td>\n",
       "      <td>0.657708</td>\n",
       "      <td>0.170399</td>\n",
       "      <td>0.33000</td>\n",
       "      <td>0.55000</td>\n",
       "      <td>0.62000</td>\n",
       "      <td>0.730000</td>\n",
       "      <td>2.00000</td>\n",
       "    </tr>\n",
       "    <tr>\n",
       "      <th>alcohol</th>\n",
       "      <td>1143.0</td>\n",
       "      <td>10.442111</td>\n",
       "      <td>1.082196</td>\n",
       "      <td>8.40000</td>\n",
       "      <td>9.50000</td>\n",
       "      <td>10.20000</td>\n",
       "      <td>11.100000</td>\n",
       "      <td>14.90000</td>\n",
       "    </tr>\n",
       "    <tr>\n",
       "      <th>quality</th>\n",
       "      <td>1143.0</td>\n",
       "      <td>5.657043</td>\n",
       "      <td>0.805824</td>\n",
       "      <td>3.00000</td>\n",
       "      <td>5.00000</td>\n",
       "      <td>6.00000</td>\n",
       "      <td>6.000000</td>\n",
       "      <td>8.00000</td>\n",
       "    </tr>\n",
       "  </tbody>\n",
       "</table>\n",
       "</div>"
      ],
      "text/plain": [
       "                        count       mean        std      min       25%  \\\n",
       "fixed acid             1143.0   8.311111   1.747595  4.60000   7.10000   \n",
       "volatile acid          1143.0   0.531339   0.179633  0.12000   0.39250   \n",
       "citric acid            1143.0   0.268364   0.196686  0.00000   0.09000   \n",
       "residual sugar         1143.0   2.532152   1.355917  0.90000   1.90000   \n",
       "chlorid                1143.0   0.086933   0.047267  0.01200   0.07000   \n",
       "free sulfur dioxide    1143.0  15.615486  10.250486  1.00000   7.00000   \n",
       "sum of sulfur dioxide  1143.0  45.914698  32.782130  6.00000  21.00000   \n",
       "density                1143.0   0.996730   0.001925  0.99007   0.99557   \n",
       "pH                     1143.0   3.311015   0.156664  2.74000   3.20500   \n",
       "sulphates              1143.0   0.657708   0.170399  0.33000   0.55000   \n",
       "alcohol                1143.0  10.442111   1.082196  8.40000   9.50000   \n",
       "quality                1143.0   5.657043   0.805824  3.00000   5.00000   \n",
       "\n",
       "                            50%        75%        max  \n",
       "fixed acid              7.90000   9.100000   15.90000  \n",
       "volatile acid           0.52000   0.640000    1.58000  \n",
       "citric acid             0.25000   0.420000    1.00000  \n",
       "residual sugar          2.20000   2.600000   15.50000  \n",
       "chlorid                 0.07900   0.090000    0.61100  \n",
       "free sulfur dioxide    13.00000  21.000000   68.00000  \n",
       "sum of sulfur dioxide  37.00000  61.000000  289.00000  \n",
       "density                 0.99668   0.997845    1.00369  \n",
       "pH                      3.31000   3.400000    4.01000  \n",
       "sulphates               0.62000   0.730000    2.00000  \n",
       "alcohol                10.20000  11.100000   14.90000  \n",
       "quality                 6.00000   6.000000    8.00000  "
      ]
     },
     "execution_count": 26,
     "metadata": {},
     "output_type": "execute_result"
    }
   ],
   "source": [
    "df.describe().T"
   ]
  },
  {
   "cell_type": "markdown",
   "id": "de49726a",
   "metadata": {},
   "source": [
    "We see from above graph that we have a lot of difference between 75 % of sum of sulfur dioxide and max value, so there can be outliers we should replace them for better accuracy"
   ]
  },
  {
   "cell_type": "code",
   "execution_count": 27,
   "id": "00e3ec57",
   "metadata": {},
   "outputs": [
    {
     "name": "stderr",
     "output_type": "stream",
     "text": [
      "C:\\Users\\user\\AppData\\Local\\Programs\\Python\\Python310\\lib\\site-packages\\seaborn\\_decorators.py:36: FutureWarning: Pass the following variable as a keyword arg: x. From version 0.12, the only valid positional argument will be `data`, and passing other arguments without an explicit keyword will result in an error or misinterpretation.\n",
      "  warnings.warn(\n"
     ]
    },
    {
     "data": {
      "text/plain": [
       "<AxesSubplot:xlabel='sum of sulfur dioxide'>"
      ]
     },
     "execution_count": 27,
     "metadata": {},
     "output_type": "execute_result"
    },
    {
     "data": {
      "image/png": "[encoded data removed]",
      "text/plain": [
       "<Figure size 1152x576 with 1 Axes>"
      ]
     },
     "metadata": {},
     "output_type": "display_data"
    }
   ],
   "source": [
    "sns.boxplot(df['sum of sulfur dioxide'])"
   ]
  },
  {
   "cell_type": "code",
   "execution_count": 28,
   "id": "c7c0aafa",
   "metadata": {},
   "outputs": [],
   "source": [
    "Q1 = df['sum of sulfur dioxide'].quantile(0.25)\n",
    "Q3 = df['sum of sulfur dioxide'].quantile(0.75)\n",
    "IQR = Q3 - Q1"
   ]
  },
  {
   "cell_type": "code",
   "execution_count": 29,
   "id": "8d831f04",
   "metadata": {},
   "outputs": [],
   "source": [
    "lower = Q1 - 1.5 * IQR\n",
    "upper = Q3 + 1.5 * IQR"
   ]
  },
  {
   "cell_type": "code",
   "execution_count": 30,
   "id": "42b0a779",
   "metadata": {},
   "outputs": [
    {
     "data": {
      "text/plain": [
       "40"
      ]
     },
     "execution_count": 30,
     "metadata": {},
     "output_type": "execute_result"
    }
   ],
   "source": [
    "(df['sum of sulfur dioxide'] > upper).sum()"
   ]
  },
  {
   "cell_type": "code",
   "execution_count": 31,
   "id": "f9c26bf5",
   "metadata": {},
   "outputs": [
    {
     "data": {
      "text/plain": [
       "0"
      ]
     },
     "execution_count": 31,
     "metadata": {},
     "output_type": "execute_result"
    }
   ],
   "source": [
    "(df['sum of sulfur dioxide'] < lower).sum()"
   ]
  },
  {
   "cell_type": "code",
   "execution_count": 32,
   "id": "efbedd8b",
   "metadata": {},
   "outputs": [],
   "source": [
    "df.loc[(df['sum of sulfur dioxide'] > upper), 'sum of sulfur dioxide'] = upper"
   ]
  },
  {
   "cell_type": "code",
   "execution_count": 33,
   "id": "2d357926",
   "metadata": {},
   "outputs": [
    {
     "name": "stderr",
     "output_type": "stream",
     "text": [
      "C:\\Users\\user\\AppData\\Local\\Programs\\Python\\Python310\\lib\\site-packages\\seaborn\\_decorators.py:36: FutureWarning: Pass the following variable as a keyword arg: x. From version 0.12, the only valid positional argument will be `data`, and passing other arguments without an explicit keyword will result in an error or misinterpretation.\n",
      "  warnings.warn(\n"
     ]
    },
    {
     "data": {
      "text/plain": [
       "<AxesSubplot:xlabel='sum of sulfur dioxide'>"
      ]
     },
     "execution_count": 33,
     "metadata": {},
     "output_type": "execute_result"
    },
    {
     "data": {
      "image/png": "[encoded data removed]",
      "text/plain": [
       "<Figure size 1152x576 with 1 Axes>"
      ]
     },
     "metadata": {},
     "output_type": "display_data"
    }
   ],
   "source": [
    "sns.boxplot(df['sum of sulfur dioxide'])"
   ]
  },
  {
   "cell_type": "code",
   "execution_count": 34,
   "id": "474d78aa",
   "metadata": {},
   "outputs": [
    {
     "data": {
      "text/plain": [
       "<AxesSubplot:>"
      ]
     },
     "execution_count": 34,
     "metadata": {},
     "output_type": "execute_result"
    },
    {
     "data": {
      "image/png": "[encoded data removed]",
      "text/plain": [
       "<Figure size 1152x576 with 2 Axes>"
      ]
     },
     "metadata": {},
     "output_type": "display_data"
    }
   ],
   "source": [
    "sns.set(rc = {'figure.figsize':(16,8)})\n",
    "sns.heatmap(df.corr(), annot = True, fmt='.2g',cmap= 'coolwarm')"
   ]
  },
  {
   "cell_type": "code",
   "execution_count": 35,
   "id": "0c4ef9d4",
   "metadata": {},
   "outputs": [],
   "source": [
    "cor = df.corr()\n"
   ]
  },
  {
   "cell_type": "code",
   "execution_count": 36,
   "id": "ef872401",
   "metadata": {},
   "outputs": [
    {
     "data": {
      "text/plain": [
       "quality    1.0\n",
       "Name: quality, dtype: float64"
      ]
     },
     "execution_count": 36,
     "metadata": {},
     "output_type": "execute_result"
    }
   ],
   "source": [
    "#Correlation with output variable\n",
    "cor_target = abs(cor[\"quality\"])\n",
    "#Selecting highly correlated features\n",
    "relevant_features = cor_target[cor_target>0.5]\n",
    "relevant_features"
   ]
  },
  {
   "cell_type": "code",
   "execution_count": 37,
   "id": "ffc209e6",
   "metadata": {},
   "outputs": [
    {
     "data": {
      "text/plain": [
       "5    483\n",
       "6    462\n",
       "7    143\n",
       "4     33\n",
       "8     16\n",
       "3      6\n",
       "Name: quality, dtype: int64"
      ]
     },
     "execution_count": 37,
     "metadata": {},
     "output_type": "execute_result"
    }
   ],
   "source": [
    "df.quality.value_counts()\n",
    "#we can see that quality is a categoric column. So we need to apply classification algorithm."
   ]
  },
  {
   "cell_type": "code",
   "execution_count": 38,
   "id": "b8e7f00a",
   "metadata": {},
   "outputs": [],
   "source": [
    "X=df.drop(columns='quality')\n",
    "y=df['quality']"
   ]
  },
  {
   "cell_type": "code",
   "execution_count": 39,
   "id": "18c2d673",
   "metadata": {},
   "outputs": [],
   "source": [
    "from sklearn.model_selection import train_test_split\n",
    "X_train, X_test, y_train, y_test = train_test_split(\n",
    " X, y, test_size=0.3, random_state=42)"
   ]
  },
  {
   "cell_type": "code",
   "execution_count": 40,
   "id": "7d9e45df",
   "metadata": {},
   "outputs": [],
   "source": [
    "sc = StandardScaler()\n",
    "sc.fit(X_train)\n",
    "X_train_std = sc.transform(X_train)\n",
    "X_test_std = sc.transform(X_test)"
   ]
  },
  {
   "cell_type": "code",
   "execution_count": 41,
   "id": "6644d8e9",
   "metadata": {},
   "outputs": [
    {
     "name": "stdout",
     "output_type": "stream",
     "text": [
      "[[  0   0   0   0   0   0]\n",
      " [  0   0   6   3   0   0]\n",
      " [  1   0 106  35   1   0]\n",
      " [  0   0  47  90   9   0]\n",
      " [  0   0   4  22  15   0]\n",
      " [  0   0   0   2   2   0]]\n",
      "0.6151603498542274\n"
     ]
    }
   ],
   "source": [
    "logreg = LogisticRegression()\n",
    "logreg.fit(X_train_std, y_train)\n",
    "y_pred = logreg.predict(X_test_std)\n",
    "print(confusion_matrix(y_test, y_pred))\n",
    "print(accuracy_score(y_test, y_pred))\n"
   ]
  },
  {
   "cell_type": "code",
   "execution_count": null,
   "id": "a69e9b2b",
   "metadata": {},
   "outputs": [],
   "source": []
  },
  {
   "cell_type": "code",
   "execution_count": null,
   "id": "1b78b2f7",
   "metadata": {},
   "outputs": [],
   "source": []
  },
  {
   "cell_type": "code",
   "execution_count": null,
   "id": "fe202358",
   "metadata": {},
   "outputs": [],
   "source": []
  },
  {
   "cell_type": "code",
   "execution_count": null,
   "id": "9e86bb1e",
   "metadata": {},
   "outputs": [],
   "source": []
  },
  {
   "cell_type": "code",
   "execution_count": null,
   "id": "5bf17344",
   "metadata": {},
   "outputs": [],
   "source": []
  },
  {
   "cell_type": "code",
   "execution_count": null,
   "id": "95b6658a",
   "metadata": {},
   "outputs": [],
   "source": []
  },
  {
   "cell_type": "code",
   "execution_count": null,
   "id": "53ccaf71",
   "metadata": {},
   "outputs": [],
   "source": []
  },
  {
   "cell_type": "code",
   "execution_count": null,
   "id": "008a2ffb",
   "metadata": {},
   "outputs": [],
   "source": []
  },
  {
   "cell_type": "code",
   "execution_count": null,
   "id": "e21ab795",
   "metadata": {},
   "outputs": [],
   "source": []
  },
  {
   "cell_type": "code",
   "execution_count": null,
   "id": "3b4e5a38",
   "metadata": {},
   "outputs": [],
   "source": []
  },
  {
   "cell_type": "code",
   "execution_count": null,
   "id": "449cad31",
   "metadata": {},
   "outputs": [],
   "source": []
  },
  {
   "cell_type": "code",
   "execution_count": null,
   "id": "7ce1db38",
   "metadata": {},
   "outputs": [],
   "source": []
  },
  {
   "cell_type": "code",
   "execution_count": null,
   "id": "3e062e9e",
   "metadata": {},
   "outputs": [],
   "source": []
  },
  {
   "cell_type": "code",
   "execution_count": null,
   "id": "df428be9",
   "metadata": {},
   "outputs": [],
   "source": []
  },
  {
   "cell_type": "code",
   "execution_count": null,
   "id": "e8728b64",
   "metadata": {},
   "outputs": [],
   "source": []
  },
  {
   "cell_type": "code",
   "execution_count": null,
   "id": "ac92bd3a",
   "metadata": {},
   "outputs": [],
   "source": []
  },
  {
   "cell_type": "code",
   "execution_count": null,
   "id": "edc67b23",
   "metadata": {},
   "outputs": [],
   "source": []
  },
  {
   "cell_type": "code",
   "execution_count": null,
   "id": "75fe8b5f",
   "metadata": {},
   "outputs": [],
   "source": []
  },
  {
   "cell_type": "code",
   "execution_count": null,
   "id": "4ce7b7ea",
   "metadata": {},
   "outputs": [],
   "source": []
  },
  {
   "cell_type": "code",
   "execution_count": null,
   "id": "30fd7ac7",
   "metadata": {},
   "outputs": [],
   "source": []
  },
  {
   "cell_type": "code",
   "execution_count": null,
   "id": "896f57fe",
   "metadata": {},
   "outputs": [],
   "source": []
  },
  {
   "cell_type": "code",
   "execution_count": null,
   "id": "73ed79e1",
   "metadata": {},
   "outputs": [],
   "source": []
  },
  {
   "cell_type": "code",
   "execution_count": null,
   "id": "9cdae5a8",
   "metadata": {},
   "outputs": [],
   "source": []
  },
  {
   "cell_type": "code",
   "execution_count": null,
   "id": "fc1eb9c9",
   "metadata": {},
   "outputs": [],
   "source": []
  },
  {
   "cell_type": "code",
   "execution_count": null,
   "id": "6de7ef2e",
   "metadata": {},
   "outputs": [],
   "source": []
  },
  {
   "cell_type": "code",
   "execution_count": null,
   "id": "e85baf9e",
   "metadata": {},
   "outputs": [],
   "source": []
  },
  {
   "cell_type": "code",
   "execution_count": null,
   "id": "f1c198ac",
   "metadata": {},
   "outputs": [],
   "source": []
  },
  {
   "cell_type": "code",
   "execution_count": null,
   "id": "68eca31d",
   "metadata": {},
   "outputs": [],
   "source": []
  },
  {
   "cell_type": "code",
   "execution_count": null,
   "id": "e2873094",
   "metadata": {},
   "outputs": [],
   "source": []
  },
  {
   "cell_type": "code",
   "execution_count": null,
   "id": "10c5ac78",
   "metadata": {},
   "outputs": [],
   "source": []
  },
  {
   "cell_type": "code",
   "execution_count": null,
   "id": "8845b379",
   "metadata": {},
   "outputs": [],
   "source": []
  }
 ],
 "metadata": {
  "kernelspec": {
   "display_name": "Python 3 (ipykernel)",
   "language": "python",
   "name": "python3"
  },
  "language_info": {
   "codemirror_mode": {
    "name": "ipython",
    "version": 3
   },
   "file_extension": ".py",
   "mimetype": "text/x-python",
   "name": "python",
   "nbconvert_exporter": "python",
   "pygments_lexer": "ipython3",
   "version": "3.10.4"
  }
 },
 "nbformat": 4,
 "nbformat_minor": 5
}
