{
 "cells": [
  {
   "cell_type": "code",
   "execution_count": 1,
   "id": "1e7d18b0",
   "metadata": {},
   "outputs": [],
   "source": [
    "import pandas as pd\n",
    "import warnings\n",
    "import seaborn as sns\n",
    "import numpy as np\n",
    "warnings.filterwarnings(\"ignore\")"
   ]
  },
  {
   "cell_type": "code",
   "execution_count": 2,
   "id": "11ceb22b",
   "metadata": {},
   "outputs": [],
   "source": [
    "df=pd.read_csv('Customers.txt')"
   ]
  },
  {
   "cell_type": "code",
   "execution_count": 3,
   "id": "a6172785",
   "metadata": {},
   "outputs": [
    {
     "data": {
      "text/html": [
       "<div>\n",
       "<style scoped>\n",
       "    .dataframe tbody tr th:only-of-type {\n",
       "        vertical-align: middle;\n",
       "    }\n",
       "\n",
       "    .dataframe tbody tr th {\n",
       "        vertical-align: top;\n",
       "    }\n",
       "\n",
       "    .dataframe thead th {\n",
       "        text-align: right;\n",
       "    }\n",
       "</style>\n",
       "<table border=\"1\" class=\"dataframe\">\n",
       "  <thead>\n",
       "    <tr style=\"text-align: right;\">\n",
       "      <th></th>\n",
       "      <th>Email</th>\n",
       "      <th>Address</th>\n",
       "      <th>Avatar</th>\n",
       "      <th>Avg. Session Length</th>\n",
       "      <th>Time on App</th>\n",
       "      <th>Time on Website</th>\n",
       "      <th>Length of Membership</th>\n",
       "      <th>Yearly Amount Spent</th>\n",
       "    </tr>\n",
       "  </thead>\n",
       "  <tbody>\n",
       "    <tr>\n",
       "      <th>0</th>\n",
       "      <td>mstephenson@fernandez.com</td>\n",
       "      <td>835 Frank Tunnel\\r\\nWrightmouth, MI 82180-9605</td>\n",
       "      <td>Violet</td>\n",
       "      <td>34.497268</td>\n",
       "      <td>12.655651</td>\n",
       "      <td>39.577668</td>\n",
       "      <td>4.082621</td>\n",
       "      <td>587.951054</td>\n",
       "    </tr>\n",
       "    <tr>\n",
       "      <th>1</th>\n",
       "      <td>hduke@hotmail.com</td>\n",
       "      <td>4547 Archer Common\\r\\nDiazchester, CA 06566-8576</td>\n",
       "      <td>DarkGreen</td>\n",
       "      <td>31.926272</td>\n",
       "      <td>11.109461</td>\n",
       "      <td>37.268959</td>\n",
       "      <td>2.664034</td>\n",
       "      <td>392.204933</td>\n",
       "    </tr>\n",
       "    <tr>\n",
       "      <th>2</th>\n",
       "      <td>pallen@yahoo.com</td>\n",
       "      <td>24645 Valerie Unions Suite 582\\r\\nCobbborough,...</td>\n",
       "      <td>Bisque</td>\n",
       "      <td>33.000915</td>\n",
       "      <td>11.330278</td>\n",
       "      <td>37.110597</td>\n",
       "      <td>4.104543</td>\n",
       "      <td>487.547505</td>\n",
       "    </tr>\n",
       "    <tr>\n",
       "      <th>3</th>\n",
       "      <td>riverarebecca@gmail.com</td>\n",
       "      <td>1414 David Throughway\\r\\nPort Jason, OH 22070-...</td>\n",
       "      <td>SaddleBrown</td>\n",
       "      <td>34.305557</td>\n",
       "      <td>13.717514</td>\n",
       "      <td>36.721283</td>\n",
       "      <td>3.120179</td>\n",
       "      <td>581.852344</td>\n",
       "    </tr>\n",
       "    <tr>\n",
       "      <th>4</th>\n",
       "      <td>mstephens@davidson-herman.com</td>\n",
       "      <td>14023 Rodriguez Passage\\r\\nPort Jacobville, PR...</td>\n",
       "      <td>MediumAquaMarine</td>\n",
       "      <td>33.330673</td>\n",
       "      <td>12.795189</td>\n",
       "      <td>37.536653</td>\n",
       "      <td>4.446308</td>\n",
       "      <td>599.406092</td>\n",
       "    </tr>\n",
       "    <tr>\n",
       "      <th>...</th>\n",
       "      <td>...</td>\n",
       "      <td>...</td>\n",
       "      <td>...</td>\n",
       "      <td>...</td>\n",
       "      <td>...</td>\n",
       "      <td>...</td>\n",
       "      <td>...</td>\n",
       "      <td>...</td>\n",
       "    </tr>\n",
       "    <tr>\n",
       "      <th>495</th>\n",
       "      <td>lewisjessica@craig-evans.com</td>\n",
       "      <td>4483 Jones Motorway Suite 872\\r\\nLake Jamiefur...</td>\n",
       "      <td>Tan</td>\n",
       "      <td>33.237660</td>\n",
       "      <td>13.566160</td>\n",
       "      <td>36.417985</td>\n",
       "      <td>3.746573</td>\n",
       "      <td>573.847438</td>\n",
       "    </tr>\n",
       "    <tr>\n",
       "      <th>496</th>\n",
       "      <td>katrina56@gmail.com</td>\n",
       "      <td>172 Owen Divide Suite 497\\r\\nWest Richard, CA ...</td>\n",
       "      <td>PaleVioletRed</td>\n",
       "      <td>34.702529</td>\n",
       "      <td>11.695736</td>\n",
       "      <td>37.190268</td>\n",
       "      <td>3.576526</td>\n",
       "      <td>529.049004</td>\n",
       "    </tr>\n",
       "    <tr>\n",
       "      <th>497</th>\n",
       "      <td>dale88@hotmail.com</td>\n",
       "      <td>0787 Andrews Ranch Apt. 633\\r\\nSouth Chadburgh...</td>\n",
       "      <td>Cornsilk</td>\n",
       "      <td>32.646777</td>\n",
       "      <td>11.499409</td>\n",
       "      <td>38.332576</td>\n",
       "      <td>4.958264</td>\n",
       "      <td>551.620145</td>\n",
       "    </tr>\n",
       "    <tr>\n",
       "      <th>498</th>\n",
       "      <td>cwilson@hotmail.com</td>\n",
       "      <td>680 Jennifer Lodge Apt. 808\\r\\nBrendachester, ...</td>\n",
       "      <td>Teal</td>\n",
       "      <td>33.322501</td>\n",
       "      <td>12.391423</td>\n",
       "      <td>36.840086</td>\n",
       "      <td>2.336485</td>\n",
       "      <td>456.469510</td>\n",
       "    </tr>\n",
       "    <tr>\n",
       "      <th>499</th>\n",
       "      <td>hannahwilson@davidson.com</td>\n",
       "      <td>49791 Rachel Heights Apt. 898\\r\\nEast Drewboro...</td>\n",
       "      <td>DarkMagenta</td>\n",
       "      <td>33.715981</td>\n",
       "      <td>12.418808</td>\n",
       "      <td>35.771016</td>\n",
       "      <td>2.735160</td>\n",
       "      <td>497.778642</td>\n",
       "    </tr>\n",
       "  </tbody>\n",
       "</table>\n",
       "<p>500 rows × 8 columns</p>\n",
       "</div>"
      ],
      "text/plain": [
       "                             Email  \\\n",
       "0        mstephenson@fernandez.com   \n",
       "1                hduke@hotmail.com   \n",
       "2                 pallen@yahoo.com   \n",
       "3          riverarebecca@gmail.com   \n",
       "4    mstephens@davidson-herman.com   \n",
       "..                             ...   \n",
       "495   lewisjessica@craig-evans.com   \n",
       "496            katrina56@gmail.com   \n",
       "497             dale88@hotmail.com   \n",
       "498            cwilson@hotmail.com   \n",
       "499      hannahwilson@davidson.com   \n",
       "\n",
       "                                               Address            Avatar  \\\n",
       "0       835 Frank Tunnel\\r\\nWrightmouth, MI 82180-9605            Violet   \n",
       "1     4547 Archer Common\\r\\nDiazchester, CA 06566-8576         DarkGreen   \n",
       "2    24645 Valerie Unions Suite 582\\r\\nCobbborough,...            Bisque   \n",
       "3    1414 David Throughway\\r\\nPort Jason, OH 22070-...       SaddleBrown   \n",
       "4    14023 Rodriguez Passage\\r\\nPort Jacobville, PR...  MediumAquaMarine   \n",
       "..                                                 ...               ...   \n",
       "495  4483 Jones Motorway Suite 872\\r\\nLake Jamiefur...               Tan   \n",
       "496  172 Owen Divide Suite 497\\r\\nWest Richard, CA ...     PaleVioletRed   \n",
       "497  0787 Andrews Ranch Apt. 633\\r\\nSouth Chadburgh...          Cornsilk   \n",
       "498  680 Jennifer Lodge Apt. 808\\r\\nBrendachester, ...              Teal   \n",
       "499  49791 Rachel Heights Apt. 898\\r\\nEast Drewboro...       DarkMagenta   \n",
       "\n",
       "     Avg. Session Length  Time on App  Time on Website  Length of Membership  \\\n",
       "0              34.497268    12.655651        39.577668              4.082621   \n",
       "1              31.926272    11.109461        37.268959              2.664034   \n",
       "2              33.000915    11.330278        37.110597              4.104543   \n",
       "3              34.305557    13.717514        36.721283              3.120179   \n",
       "4              33.330673    12.795189        37.536653              4.446308   \n",
       "..                   ...          ...              ...                   ...   \n",
       "495            33.237660    13.566160        36.417985              3.746573   \n",
       "496            34.702529    11.695736        37.190268              3.576526   \n",
       "497            32.646777    11.499409        38.332576              4.958264   \n",
       "498            33.322501    12.391423        36.840086              2.336485   \n",
       "499            33.715981    12.418808        35.771016              2.735160   \n",
       "\n",
       "     Yearly Amount Spent  \n",
       "0             587.951054  \n",
       "1             392.204933  \n",
       "2             487.547505  \n",
       "3             581.852344  \n",
       "4             599.406092  \n",
       "..                   ...  \n",
       "495           573.847438  \n",
       "496           529.049004  \n",
       "497           551.620145  \n",
       "498           456.469510  \n",
       "499           497.778642  \n",
       "\n",
       "[500 rows x 8 columns]"
      ]
     },
     "execution_count": 3,
     "metadata": {},
     "output_type": "execute_result"
    }
   ],
   "source": [
    "df"
   ]
  },
  {
   "cell_type": "code",
   "execution_count": 4,
   "id": "1e5bb6bd",
   "metadata": {},
   "outputs": [
    {
     "name": "stdout",
     "output_type": "stream",
     "text": [
      "<class 'pandas.core.frame.DataFrame'>\n",
      "RangeIndex: 500 entries, 0 to 499\n",
      "Data columns (total 8 columns):\n",
      " #   Column                Non-Null Count  Dtype  \n",
      "---  ------                --------------  -----  \n",
      " 0   Email                 500 non-null    object \n",
      " 1   Address               500 non-null    object \n",
      " 2   Avatar                500 non-null    object \n",
      " 3   Avg. Session Length   500 non-null    float64\n",
      " 4   Time on App           500 non-null    float64\n",
      " 5   Time on Website       500 non-null    float64\n",
      " 6   Length of Membership  500 non-null    float64\n",
      " 7   Yearly Amount Spent   500 non-null    float64\n",
      "dtypes: float64(5), object(3)\n",
      "memory usage: 31.4+ KB\n"
     ]
    }
   ],
   "source": [
    "df.info()"
   ]
  },
  {
   "cell_type": "code",
   "execution_count": 5,
   "id": "5087c30e",
   "metadata": {},
   "outputs": [
    {
     "data": {
      "text/html": [
       "<div>\n",
       "<style scoped>\n",
       "    .dataframe tbody tr th:only-of-type {\n",
       "        vertical-align: middle;\n",
       "    }\n",
       "\n",
       "    .dataframe tbody tr th {\n",
       "        vertical-align: top;\n",
       "    }\n",
       "\n",
       "    .dataframe thead th {\n",
       "        text-align: right;\n",
       "    }\n",
       "</style>\n",
       "<table border=\"1\" class=\"dataframe\">\n",
       "  <thead>\n",
       "    <tr style=\"text-align: right;\">\n",
       "      <th></th>\n",
       "      <th>Avg. Session Length</th>\n",
       "      <th>Time on App</th>\n",
       "      <th>Time on Website</th>\n",
       "      <th>Length of Membership</th>\n",
       "      <th>Yearly Amount Spent</th>\n",
       "    </tr>\n",
       "  </thead>\n",
       "  <tbody>\n",
       "    <tr>\n",
       "      <th>count</th>\n",
       "      <td>500.000000</td>\n",
       "      <td>500.000000</td>\n",
       "      <td>500.000000</td>\n",
       "      <td>500.000000</td>\n",
       "      <td>500.000000</td>\n",
       "    </tr>\n",
       "    <tr>\n",
       "      <th>mean</th>\n",
       "      <td>33.053194</td>\n",
       "      <td>12.052488</td>\n",
       "      <td>37.060445</td>\n",
       "      <td>3.533462</td>\n",
       "      <td>499.314038</td>\n",
       "    </tr>\n",
       "    <tr>\n",
       "      <th>std</th>\n",
       "      <td>0.992563</td>\n",
       "      <td>0.994216</td>\n",
       "      <td>1.010489</td>\n",
       "      <td>0.999278</td>\n",
       "      <td>79.314782</td>\n",
       "    </tr>\n",
       "    <tr>\n",
       "      <th>min</th>\n",
       "      <td>29.532429</td>\n",
       "      <td>8.508152</td>\n",
       "      <td>33.913847</td>\n",
       "      <td>0.269901</td>\n",
       "      <td>256.670582</td>\n",
       "    </tr>\n",
       "    <tr>\n",
       "      <th>25%</th>\n",
       "      <td>32.341822</td>\n",
       "      <td>11.388153</td>\n",
       "      <td>36.349257</td>\n",
       "      <td>2.930450</td>\n",
       "      <td>445.038277</td>\n",
       "    </tr>\n",
       "    <tr>\n",
       "      <th>50%</th>\n",
       "      <td>33.082008</td>\n",
       "      <td>11.983231</td>\n",
       "      <td>37.069367</td>\n",
       "      <td>3.533975</td>\n",
       "      <td>498.887875</td>\n",
       "    </tr>\n",
       "    <tr>\n",
       "      <th>75%</th>\n",
       "      <td>33.711985</td>\n",
       "      <td>12.753850</td>\n",
       "      <td>37.716432</td>\n",
       "      <td>4.126502</td>\n",
       "      <td>549.313828</td>\n",
       "    </tr>\n",
       "    <tr>\n",
       "      <th>max</th>\n",
       "      <td>36.139662</td>\n",
       "      <td>15.126994</td>\n",
       "      <td>40.005182</td>\n",
       "      <td>6.922689</td>\n",
       "      <td>765.518462</td>\n",
       "    </tr>\n",
       "  </tbody>\n",
       "</table>\n",
       "</div>"
      ],
      "text/plain": [
       "       Avg. Session Length  Time on App  Time on Website  \\\n",
       "count           500.000000   500.000000       500.000000   \n",
       "mean             33.053194    12.052488        37.060445   \n",
       "std               0.992563     0.994216         1.010489   \n",
       "min              29.532429     8.508152        33.913847   \n",
       "25%              32.341822    11.388153        36.349257   \n",
       "50%              33.082008    11.983231        37.069367   \n",
       "75%              33.711985    12.753850        37.716432   \n",
       "max              36.139662    15.126994        40.005182   \n",
       "\n",
       "       Length of Membership  Yearly Amount Spent  \n",
       "count            500.000000           500.000000  \n",
       "mean               3.533462           499.314038  \n",
       "std                0.999278            79.314782  \n",
       "min                0.269901           256.670582  \n",
       "25%                2.930450           445.038277  \n",
       "50%                3.533975           498.887875  \n",
       "75%                4.126502           549.313828  \n",
       "max                6.922689           765.518462  "
      ]
     },
     "execution_count": 5,
     "metadata": {},
     "output_type": "execute_result"
    }
   ],
   "source": [
    "df.describe()"
   ]
  },
  {
   "cell_type": "markdown",
   "id": "c2db5827",
   "metadata": {},
   "source": [
    "Firstly, I have dropped unnecessary columns"
   ]
  },
  {
   "cell_type": "code",
   "execution_count": 6,
   "id": "7d7b65e2",
   "metadata": {},
   "outputs": [],
   "source": [
    "df.drop(['Email','Address','Avatar'],axis=1, inplace=True)"
   ]
  },
  {
   "cell_type": "code",
   "execution_count": 7,
   "id": "009700dd",
   "metadata": {},
   "outputs": [
    {
     "data": {
      "text/plain": [
       "<AxesSubplot:xlabel='Avg. Session Length'>"
      ]
     },
     "execution_count": 7,
     "metadata": {},
     "output_type": "execute_result"
    },
    {
     "data": {
      "image/png": "[encoded data removed]",
      "text/plain": [
       "<Figure size 432x288 with 1 Axes>"
      ]
     },
     "metadata": {
      "needs_background": "light"
     },
     "output_type": "display_data"
    }
   ],
   "source": [
    "sns.boxplot(df['Avg. Session Length'])"
   ]
  },
  {
   "cell_type": "code",
   "execution_count": 8,
   "id": "b38536c1",
   "metadata": {},
   "outputs": [
    {
     "name": "stdout",
     "output_type": "stream",
     "text": [
      "(array([12], dtype=int64),)\n"
     ]
    }
   ],
   "source": [
    "print(np.where(df['Avg. Session Length']<30))"
   ]
  },
  {
   "cell_type": "code",
   "execution_count": 9,
   "id": "3e950af7",
   "metadata": {},
   "outputs": [
    {
     "name": "stdout",
     "output_type": "stream",
     "text": [
      "0      1.456351\n",
      "1      1.136502\n",
      "2      0.052723\n",
      "3      1.263010\n",
      "4      0.279838\n",
      "         ...   \n",
      "495    0.186035\n",
      "496    1.663357\n",
      "497    0.409872\n",
      "498    0.271597\n",
      "499    0.668422\n",
      "Name: Avg. Session Length, Length: 500, dtype: float64\n"
     ]
    }
   ],
   "source": [
    "\n",
    "# Z score\n",
    "from scipy import stats\n",
    "import numpy as np\n",
    " \n",
    "z = np.abs(stats.zscore(df['Avg. Session Length']))\n",
    "print(z)"
   ]
  },
  {
   "cell_type": "code",
   "execution_count": 10,
   "id": "e804b47d",
   "metadata": {},
   "outputs": [
    {
     "name": "stdout",
     "output_type": "stream",
     "text": [
      "(array([ 12, 154], dtype=int64),)\n"
     ]
    }
   ],
   "source": [
    "# Position of the outlier\n",
    "print(np.where(z > 3))"
   ]
  },
  {
   "cell_type": "code",
   "execution_count": 11,
   "id": "160bd944",
   "metadata": {},
   "outputs": [
    {
     "name": "stdout",
     "output_type": "stream",
     "text": [
      "Old Shape:  (500, 5)\n",
      "New Shape:  (497, 5)\n"
     ]
    }
   ],
   "source": [
    "''' Detection '''\n",
    "# IQR\n",
    "Q1 = np.percentile(df['Avg. Session Length'], 25,interpolation = 'midpoint')\n",
    "\n",
    "Q3 = np.percentile(df['Avg. Session Length'], 75,interpolation = 'midpoint')\n",
    "IQR = Q3 - Q1\n",
    "\n",
    "print(\"Old Shape: \", df.shape)\n",
    "\n",
    "# Upper bound\n",
    "upper = np.where(df['Avg. Session Length'] >= (Q3+1.5*IQR))\n",
    "# Lower bound\n",
    "lower = np.where(df['Avg. Session Length'] <= (Q1-1.5*IQR))\n",
    "\n",
    "''' Removing the Outliers '''\n",
    "df.drop(upper[0], inplace = True)\n",
    "df.drop(lower[0], inplace = True)\n",
    "\n",
    "print(\"New Shape: \", df.shape)\n"
   ]
  },
  {
   "cell_type": "code",
   "execution_count": 12,
   "id": "d37c5987",
   "metadata": {},
   "outputs": [
    {
     "name": "stdout",
     "output_type": "stream",
     "text": [
      "Old Shape:  (497, 5)\n",
      "New Shape:  (493, 5)\n"
     ]
    }
   ],
   "source": [
    "Q1 = np.percentile(df['Time on App'], 25,interpolation = 'midpoint')\n",
    "Q3 = np.percentile(df['Time on App'], 75,interpolation = 'midpoint')\n",
    "IQR = Q3 - Q1\n",
    "\n",
    "print(\"Old Shape: \", df.shape)\n",
    "upper = np.where(df['Time on App'] >= (Q3+1.5*IQR))\n",
    "lower = np.where(df['Time on App'] <= (Q1-1.5*IQR))\n",
    "df.drop(upper[0], inplace = True)\n",
    "df.drop(lower[0], inplace = True)\n",
    "print(\"New Shape: \", df.shape)"
   ]
  },
  {
   "cell_type": "code",
   "execution_count": 13,
   "id": "fa6b6972",
   "metadata": {},
   "outputs": [
    {
     "name": "stdout",
     "output_type": "stream",
     "text": [
      "<class 'pandas.core.frame.DataFrame'>\n",
      "Int64Index: 493 entries, 0 to 499\n",
      "Data columns (total 5 columns):\n",
      " #   Column                Non-Null Count  Dtype  \n",
      "---  ------                --------------  -----  \n",
      " 0   Avg. Session Length   493 non-null    float64\n",
      " 1   Time on App           493 non-null    float64\n",
      " 2   Time on Website       493 non-null    float64\n",
      " 3   Length of Membership  493 non-null    float64\n",
      " 4   Yearly Amount Spent   493 non-null    float64\n",
      "dtypes: float64(5)\n",
      "memory usage: 23.1 KB\n"
     ]
    }
   ],
   "source": [
    "df.info()"
   ]
  },
  {
   "cell_type": "markdown",
   "id": "ee88ee58",
   "metadata": {},
   "source": [
    "So, I have cleaned outliers from data for obtaining good results."
   ]
  },
  {
   "cell_type": "code",
   "execution_count": 22,
   "id": "4e28d7a1",
   "metadata": {},
   "outputs": [],
   "source": [
    "cols = ['Time on App', 'Avg. Session Length','Time on Website','Length of Membership','Yearly Amount Spent']\n",
    "df[cols] = df[cols].round(0)"
   ]
  },
  {
   "cell_type": "code",
   "execution_count": 25,
   "id": "85a10d74",
   "metadata": {},
   "outputs": [],
   "source": [
    "df=df[cols].astype(int)"
   ]
  },
  {
   "cell_type": "code",
   "execution_count": 54,
   "id": "6be47172",
   "metadata": {},
   "outputs": [
    {
     "data": {
      "text/plain": [
       "Time on App\n",
       "8     34.000000\n",
       "9     34.000000\n",
       "10    33.000000\n",
       "11    33.076923\n",
       "12    33.082524\n",
       "13    32.940678\n",
       "14    33.142857\n",
       "15    33.000000\n",
       "Name: Avg. Session Length, dtype: float64"
      ]
     },
     "execution_count": 54,
     "metadata": {},
     "output_type": "execute_result"
    }
   ],
   "source": [
    "df.groupby('Time on App')['Avg. Session Length'].mean()\n"
   ]
  },
  {
   "cell_type": "code",
   "execution_count": 38,
   "id": "67992961",
   "metadata": {},
   "outputs": [
    {
     "data": {
      "text/plain": [
       "12.060851926977687"
      ]
     },
     "execution_count": 38,
     "metadata": {},
     "output_type": "execute_result"
    }
   ],
   "source": [
    "df['Time on App'].mean()"
   ]
  },
  {
   "cell_type": "code",
   "execution_count": 49,
   "id": "6fab4f84",
   "metadata": {},
   "outputs": [
    {
     "data": {
      "text/plain": [
       "37.0709939148073"
      ]
     },
     "execution_count": 49,
     "metadata": {},
     "output_type": "execute_result"
    }
   ],
   "source": [
    "df['Time on Website'].mean()\n",
    "#So time on app is lower than time on website"
   ]
  },
  {
   "cell_type": "code",
   "execution_count": 44,
   "id": "86c8c546",
   "metadata": {},
   "outputs": [
    {
     "data": {
      "text/html": [
       "<div>\n",
       "<style scoped>\n",
       "    .dataframe tbody tr th:only-of-type {\n",
       "        vertical-align: middle;\n",
       "    }\n",
       "\n",
       "    .dataframe tbody tr th {\n",
       "        vertical-align: top;\n",
       "    }\n",
       "\n",
       "    .dataframe thead th {\n",
       "        text-align: right;\n",
       "    }\n",
       "</style>\n",
       "<table border=\"1\" class=\"dataframe\">\n",
       "  <thead>\n",
       "    <tr style=\"text-align: right;\">\n",
       "      <th></th>\n",
       "      <th>Time on App</th>\n",
       "      <th>Avg. Session Length</th>\n",
       "      <th>Time on Website</th>\n",
       "      <th>Length of Membership</th>\n",
       "      <th>Yearly Amount Spent</th>\n",
       "    </tr>\n",
       "  </thead>\n",
       "  <tbody>\n",
       "    <tr>\n",
       "      <th>157</th>\n",
       "      <td>12</td>\n",
       "      <td>35</td>\n",
       "      <td>34</td>\n",
       "      <td>7</td>\n",
       "      <td>744</td>\n",
       "    </tr>\n",
       "    <tr>\n",
       "      <th>273</th>\n",
       "      <td>12</td>\n",
       "      <td>34</td>\n",
       "      <td>37</td>\n",
       "      <td>6</td>\n",
       "      <td>641</td>\n",
       "    </tr>\n",
       "    <tr>\n",
       "      <th>298</th>\n",
       "      <td>11</td>\n",
       "      <td>34</td>\n",
       "      <td>36</td>\n",
       "      <td>6</td>\n",
       "      <td>588</td>\n",
       "    </tr>\n",
       "    <tr>\n",
       "      <th>368</th>\n",
       "      <td>13</td>\n",
       "      <td>34</td>\n",
       "      <td>36</td>\n",
       "      <td>6</td>\n",
       "      <td>709</td>\n",
       "    </tr>\n",
       "    <tr>\n",
       "      <th>24</th>\n",
       "      <td>13</td>\n",
       "      <td>34</td>\n",
       "      <td>38</td>\n",
       "      <td>6</td>\n",
       "      <td>701</td>\n",
       "    </tr>\n",
       "    <tr>\n",
       "      <th>151</th>\n",
       "      <td>12</td>\n",
       "      <td>33</td>\n",
       "      <td>37</td>\n",
       "      <td>6</td>\n",
       "      <td>684</td>\n",
       "    </tr>\n",
       "    <tr>\n",
       "      <th>292</th>\n",
       "      <td>11</td>\n",
       "      <td>33</td>\n",
       "      <td>36</td>\n",
       "      <td>6</td>\n",
       "      <td>584</td>\n",
       "    </tr>\n",
       "    <tr>\n",
       "      <th>396</th>\n",
       "      <td>11</td>\n",
       "      <td>36</td>\n",
       "      <td>36</td>\n",
       "      <td>6</td>\n",
       "      <td>670</td>\n",
       "    </tr>\n",
       "    <tr>\n",
       "      <th>114</th>\n",
       "      <td>13</td>\n",
       "      <td>33</td>\n",
       "      <td>36</td>\n",
       "      <td>6</td>\n",
       "      <td>642</td>\n",
       "    </tr>\n",
       "    <tr>\n",
       "      <th>5</th>\n",
       "      <td>12</td>\n",
       "      <td>34</td>\n",
       "      <td>34</td>\n",
       "      <td>6</td>\n",
       "      <td>637</td>\n",
       "    </tr>\n",
       "    <tr>\n",
       "      <th>305</th>\n",
       "      <td>14</td>\n",
       "      <td>33</td>\n",
       "      <td>36</td>\n",
       "      <td>6</td>\n",
       "      <td>690</td>\n",
       "    </tr>\n",
       "    <tr>\n",
       "      <th>420</th>\n",
       "      <td>12</td>\n",
       "      <td>33</td>\n",
       "      <td>37</td>\n",
       "      <td>6</td>\n",
       "      <td>664</td>\n",
       "    </tr>\n",
       "    <tr>\n",
       "      <th>50</th>\n",
       "      <td>14</td>\n",
       "      <td>33</td>\n",
       "      <td>38</td>\n",
       "      <td>6</td>\n",
       "      <td>726</td>\n",
       "    </tr>\n",
       "    <tr>\n",
       "      <th>153</th>\n",
       "      <td>13</td>\n",
       "      <td>32</td>\n",
       "      <td>37</td>\n",
       "      <td>6</td>\n",
       "      <td>657</td>\n",
       "    </tr>\n",
       "    <tr>\n",
       "      <th>71</th>\n",
       "      <td>12</td>\n",
       "      <td>34</td>\n",
       "      <td>36</td>\n",
       "      <td>5</td>\n",
       "      <td>596</td>\n",
       "    </tr>\n",
       "  </tbody>\n",
       "</table>\n",
       "</div>"
      ],
      "text/plain": [
       "     Time on App  Avg. Session Length  Time on Website  Length of Membership  \\\n",
       "157           12                   35               34                     7   \n",
       "273           12                   34               37                     6   \n",
       "298           11                   34               36                     6   \n",
       "368           13                   34               36                     6   \n",
       "24            13                   34               38                     6   \n",
       "151           12                   33               37                     6   \n",
       "292           11                   33               36                     6   \n",
       "396           11                   36               36                     6   \n",
       "114           13                   33               36                     6   \n",
       "5             12                   34               34                     6   \n",
       "305           14                   33               36                     6   \n",
       "420           12                   33               37                     6   \n",
       "50            14                   33               38                     6   \n",
       "153           13                   32               37                     6   \n",
       "71            12                   34               36                     5   \n",
       "\n",
       "     Yearly Amount Spent  \n",
       "157                  744  \n",
       "273                  641  \n",
       "298                  588  \n",
       "368                  709  \n",
       "24                   701  \n",
       "151                  684  \n",
       "292                  584  \n",
       "396                  670  \n",
       "114                  642  \n",
       "5                    637  \n",
       "305                  690  \n",
       "420                  664  \n",
       "50                   726  \n",
       "153                  657  \n",
       "71                   596  "
      ]
     },
     "execution_count": 44,
     "metadata": {},
     "output_type": "execute_result"
    }
   ],
   "source": [
    "new_df=df.sort_values(by='Length of Membership',ascending=False).head(15)\n",
    "new_df"
   ]
  },
  {
   "cell_type": "code",
   "execution_count": 46,
   "id": "21c041c2",
   "metadata": {},
   "outputs": [
    {
     "data": {
      "text/plain": [
       "36.266666666666666"
      ]
     },
     "execution_count": 46,
     "metadata": {},
     "output_type": "execute_result"
    }
   ],
   "source": [
    "new_df['Time on Website'].mean()"
   ]
  },
  {
   "cell_type": "code",
   "execution_count": 47,
   "id": "ef5a3111",
   "metadata": {},
   "outputs": [
    {
     "data": {
      "text/plain": [
       "12.333333333333334"
      ]
     },
     "execution_count": 47,
     "metadata": {},
     "output_type": "execute_result"
    }
   ],
   "source": [
    "new_df['Time on App'].mean()"
   ]
  },
  {
   "cell_type": "markdown",
   "id": "73fd5d23",
   "metadata": {},
   "source": [
    "So, we see that Length of membership for Time on website is high than time on app"
   ]
  },
  {
   "cell_type": "code",
   "execution_count": 50,
   "id": "2b72695e",
   "metadata": {},
   "outputs": [
    {
     "data": {
      "text/html": [
       "<div>\n",
       "<style scoped>\n",
       "    .dataframe tbody tr th:only-of-type {\n",
       "        vertical-align: middle;\n",
       "    }\n",
       "\n",
       "    .dataframe tbody tr th {\n",
       "        vertical-align: top;\n",
       "    }\n",
       "\n",
       "    .dataframe thead th {\n",
       "        text-align: right;\n",
       "    }\n",
       "</style>\n",
       "<table border=\"1\" class=\"dataframe\">\n",
       "  <thead>\n",
       "    <tr style=\"text-align: right;\">\n",
       "      <th></th>\n",
       "      <th>Time on App</th>\n",
       "      <th>Avg. Session Length</th>\n",
       "      <th>Time on Website</th>\n",
       "      <th>Length of Membership</th>\n",
       "      <th>Yearly Amount Spent</th>\n",
       "    </tr>\n",
       "  </thead>\n",
       "  <tbody>\n",
       "    <tr>\n",
       "      <th>225</th>\n",
       "      <td>10</td>\n",
       "      <td>33</td>\n",
       "      <td>36</td>\n",
       "      <td>1</td>\n",
       "      <td>257</td>\n",
       "    </tr>\n",
       "    <tr>\n",
       "      <th>303</th>\n",
       "      <td>12</td>\n",
       "      <td>31</td>\n",
       "      <td>37</td>\n",
       "      <td>1</td>\n",
       "      <td>266</td>\n",
       "    </tr>\n",
       "    <tr>\n",
       "      <th>415</th>\n",
       "      <td>11</td>\n",
       "      <td>32</td>\n",
       "      <td>39</td>\n",
       "      <td>1</td>\n",
       "      <td>276</td>\n",
       "    </tr>\n",
       "    <tr>\n",
       "      <th>299</th>\n",
       "      <td>12</td>\n",
       "      <td>30</td>\n",
       "      <td>36</td>\n",
       "      <td>2</td>\n",
       "      <td>282</td>\n",
       "    </tr>\n",
       "    <tr>\n",
       "      <th>173</th>\n",
       "      <td>12</td>\n",
       "      <td>32</td>\n",
       "      <td>37</td>\n",
       "      <td>1</td>\n",
       "      <td>299</td>\n",
       "    </tr>\n",
       "    <tr>\n",
       "      <th>309</th>\n",
       "      <td>8</td>\n",
       "      <td>34</td>\n",
       "      <td>36</td>\n",
       "      <td>2</td>\n",
       "      <td>302</td>\n",
       "    </tr>\n",
       "    <tr>\n",
       "      <th>434</th>\n",
       "      <td>11</td>\n",
       "      <td>34</td>\n",
       "      <td>36</td>\n",
       "      <td>1</td>\n",
       "      <td>304</td>\n",
       "    </tr>\n",
       "    <tr>\n",
       "      <th>442</th>\n",
       "      <td>9</td>\n",
       "      <td>34</td>\n",
       "      <td>36</td>\n",
       "      <td>2</td>\n",
       "      <td>308</td>\n",
       "    </tr>\n",
       "    <tr>\n",
       "      <th>447</th>\n",
       "      <td>13</td>\n",
       "      <td>33</td>\n",
       "      <td>38</td>\n",
       "      <td>0</td>\n",
       "      <td>314</td>\n",
       "    </tr>\n",
       "    <tr>\n",
       "      <th>312</th>\n",
       "      <td>12</td>\n",
       "      <td>30</td>\n",
       "      <td>36</td>\n",
       "      <td>2</td>\n",
       "      <td>320</td>\n",
       "    </tr>\n",
       "    <tr>\n",
       "      <th>489</th>\n",
       "      <td>11</td>\n",
       "      <td>32</td>\n",
       "      <td>37</td>\n",
       "      <td>2</td>\n",
       "      <td>327</td>\n",
       "    </tr>\n",
       "    <tr>\n",
       "      <th>334</th>\n",
       "      <td>11</td>\n",
       "      <td>32</td>\n",
       "      <td>37</td>\n",
       "      <td>2</td>\n",
       "      <td>331</td>\n",
       "    </tr>\n",
       "    <tr>\n",
       "      <th>83</th>\n",
       "      <td>11</td>\n",
       "      <td>32</td>\n",
       "      <td>38</td>\n",
       "      <td>2</td>\n",
       "      <td>338</td>\n",
       "    </tr>\n",
       "    <tr>\n",
       "      <th>36</th>\n",
       "      <td>12</td>\n",
       "      <td>32</td>\n",
       "      <td>37</td>\n",
       "      <td>2</td>\n",
       "      <td>348</td>\n",
       "    </tr>\n",
       "    <tr>\n",
       "      <th>143</th>\n",
       "      <td>12</td>\n",
       "      <td>32</td>\n",
       "      <td>39</td>\n",
       "      <td>1</td>\n",
       "      <td>350</td>\n",
       "    </tr>\n",
       "  </tbody>\n",
       "</table>\n",
       "</div>"
      ],
      "text/plain": [
       "     Time on App  Avg. Session Length  Time on Website  Length of Membership  \\\n",
       "225           10                   33               36                     1   \n",
       "303           12                   31               37                     1   \n",
       "415           11                   32               39                     1   \n",
       "299           12                   30               36                     2   \n",
       "173           12                   32               37                     1   \n",
       "309            8                   34               36                     2   \n",
       "434           11                   34               36                     1   \n",
       "442            9                   34               36                     2   \n",
       "447           13                   33               38                     0   \n",
       "312           12                   30               36                     2   \n",
       "489           11                   32               37                     2   \n",
       "334           11                   32               37                     2   \n",
       "83            11                   32               38                     2   \n",
       "36            12                   32               37                     2   \n",
       "143           12                   32               39                     1   \n",
       "\n",
       "     Yearly Amount Spent  \n",
       "225                  257  \n",
       "303                  266  \n",
       "415                  276  \n",
       "299                  282  \n",
       "173                  299  \n",
       "309                  302  \n",
       "434                  304  \n",
       "442                  308  \n",
       "447                  314  \n",
       "312                  320  \n",
       "489                  327  \n",
       "334                  331  \n",
       "83                   338  \n",
       "36                   348  \n",
       "143                  350  "
      ]
     },
     "execution_count": 50,
     "metadata": {},
     "output_type": "execute_result"
    }
   ],
   "source": [
    "new_df2=df.sort_values(by='Yearly Amount Spent',ascending=True).head(15)\n",
    "new_df2"
   ]
  },
  {
   "cell_type": "code",
   "execution_count": 51,
   "id": "8029701f",
   "metadata": {},
   "outputs": [
    {
     "data": {
      "text/plain": [
       "37.0"
      ]
     },
     "execution_count": 51,
     "metadata": {},
     "output_type": "execute_result"
    }
   ],
   "source": [
    "new_df2['Time on Website'].mean()"
   ]
  },
  {
   "cell_type": "code",
   "execution_count": 52,
   "id": "c00f2d7b",
   "metadata": {},
   "outputs": [
    {
     "data": {
      "text/plain": [
       "11.133333333333333"
      ]
     },
     "execution_count": 52,
     "metadata": {},
     "output_type": "execute_result"
    }
   ],
   "source": [
    "new_df2['Time on App'].mean()"
   ]
  },
  {
   "cell_type": "markdown",
   "id": "a3ad773b",
   "metadata": {},
   "source": [
    "Also, when the amount of money spent yearly has descreased Time on Website was increased. So Website should be first priority for company."
   ]
  },
  {
   "cell_type": "code",
   "execution_count": null,
   "id": "22f50e32",
   "metadata": {},
   "outputs": [],
   "source": []
  }
 ],
 "metadata": {
  "kernelspec": {
   "display_name": "Python 3 (ipykernel)",
   "language": "python",
   "name": "python3"
  },
  "language_info": {
   "codemirror_mode": {
    "name": "ipython",
    "version": 3
   },
   "file_extension": ".py",
   "mimetype": "text/x-python",
   "name": "python",
   "nbconvert_exporter": "python",
   "pygments_lexer": "ipython3",
   "version": "3.10.4"
  }
 },
 "nbformat": 4,
 "nbformat_minor": 5
}
